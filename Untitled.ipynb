{
 "cells": [
  {
   "cell_type": "code",
   "execution_count": 2,
   "id": "ec0ebd0f",
   "metadata": {},
   "outputs": [
    {
     "name": "stdout",
     "output_type": "stream",
     "text": [
      "4651.0\n"
     ]
    }
   ],
   "source": [
    "#5개 굴림\n",
    "\n",
    "import numpy\n",
    "\n",
    "d1 = 0\n",
    "d2 = 0\n",
    "d3 = 0\n",
    "d4 = 0\n",
    "d5 = 0\n",
    "D = [d1, d2, d3, d4, d5]\n",
    "DD = numpy.zeros(shape=(6,6,6,6,6,6))\n",
    "KDD = numpy.zeros(shape=(6,6,6,6,6,6))\n",
    "\n",
    "for d1 in range(1,7):\n",
    "    for d2 in range(1,7):\n",
    "        for d3 in range(1,7):\n",
    "            for d4 in range(1,7):\n",
    "                for d5 in range(1,7):\n",
    "                    D = [d1, d2, d3, d4, d5]\n",
    "                    i1 = D.count(1)\n",
    "                    i2 = D.count(2)\n",
    "                    i3 = D.count(3)\n",
    "                    i4 = D.count(4)\n",
    "                    i5 = D.count(5)\n",
    "                    i6 = D.count(6)\n",
    "                    DD[i1][i2][i3][i4][i5][i6] += 1\n",
    "                    for ii1 in range(0, i1+1):\n",
    "                        for ii2 in range(0, i2+1):\n",
    "                            for ii3 in range(0, i3+1):\n",
    "                                for ii4 in range(0, i4+1):\n",
    "                                    for ii5 in range(0, i5+1):\n",
    "                                        for ii6 in range(0, i6+1):\n",
    "                                            KDD[ii1][ii2][ii3][ii4][ii5][ii6] += 1\n",
    "\n",
    "# print(DD[1][2][1][1][0][0])\n",
    "# print(DD[1][1][1][1][1][0])\n",
    "print(KDD[0][1][0][0][0][0])\n"
   ]
  },
  {
   "cell_type": "code",
   "execution_count": 22,
   "id": "7e477148",
   "metadata": {},
   "outputs": [
    {
     "name": "stdout",
     "output_type": "stream",
     "text": [
      "1.0\n"
     ]
    }
   ],
   "source": [
    "print(KDD[5][0][0][0][0][0])"
   ]
  },
  {
   "cell_type": "code",
   "execution_count": 2,
   "id": "6612b714",
   "metadata": {},
   "outputs": [
    {
     "name": "stdout",
     "output_type": "stream",
     "text": [
      "671.0\n"
     ]
    }
   ],
   "source": [
    "#4개 굴림\n",
    "\n",
    "import numpy\n",
    "\n",
    "dice_max=5\n",
    "\n",
    "d1 = 0\n",
    "d2 = 0\n",
    "d3 = 0\n",
    "d4 = 0\n",
    "d5 = 0\n",
    "D = [d1, d2, d3, d4, d5]\n",
    "DD = numpy.zeros(shape=(dice_max,dice_max,dice_max,dice_max,dice_max,dice_max))\n",
    "KDD = numpy.zeros(shape=(dice_max,dice_max,dice_max,dice_max,dice_max,dice_max))\n",
    "\n",
    "for d1 in range(1,7):\n",
    "    for d2 in range(1,7):\n",
    "        for d3 in range(1,7):\n",
    "            for d4 in range(1,7):\n",
    "#                 for d5 in range(1,7):\n",
    "                D = [d1, d2, d3, d4]\n",
    "                i1 = D.count(1)\n",
    "                i2 = D.count(2)\n",
    "                i3 = D.count(3)\n",
    "                i4 = D.count(4)\n",
    "                i5 = D.count(5)\n",
    "                i6 = D.count(6)\n",
    "                DD[i1][i2][i3][i4][i5][i6] += 1\n",
    "                for ii1 in range(0, i1+1):\n",
    "                    for ii2 in range(0, i2+1):\n",
    "                        for ii3 in range(0, i3+1):\n",
    "                            for ii4 in range(0, i4+1):\n",
    "                                for ii5 in range(0, i5+1):\n",
    "                                    for ii6 in range(0, i6+1):\n",
    "                                        KDD[ii1][ii2][ii3][ii4][ii5][ii6] += 1\n",
    "\n",
    "# print(DD[1][2][1][1][0][0])\n",
    "# print(DD[1][1][1][1][1][0])\n",
    "print(KDD[0][1][0][0][0][0])\n"
   ]
  },
  {
   "cell_type": "code",
   "execution_count": 15,
   "id": "3a36466e",
   "metadata": {},
   "outputs": [
    {
     "name": "stdout",
     "output_type": "stream",
     "text": [
      "1.0\n"
     ]
    }
   ],
   "source": [
    "print(KDD[4][0][0][0][0][0])"
   ]
  },
  {
   "cell_type": "code",
   "execution_count": 1,
   "id": "4b409e5f",
   "metadata": {},
   "outputs": [
    {
     "name": "stdout",
     "output_type": "stream",
     "text": [
      "91.0\n"
     ]
    }
   ],
   "source": [
    "#4개 굴림\n",
    "\n",
    "import numpy\n",
    "\n",
    "dice_max=4\n",
    "\n",
    "d1 = 0\n",
    "d2 = 0\n",
    "d3 = 0\n",
    "d4 = 0\n",
    "d5 = 0\n",
    "D = [d1, d2, d3, d4, d5]\n",
    "DD = numpy.zeros(shape=(dice_max,dice_max,dice_max,dice_max,dice_max,dice_max))\n",
    "KDD = numpy.zeros(shape=(dice_max,dice_max,dice_max,dice_max,dice_max,dice_max))\n",
    "\n",
    "for d1 in range(1,7):\n",
    "    for d2 in range(1,7):\n",
    "        for d3 in range(1,7):\n",
    "#             for d4 in range(1,7):\n",
    "#                 for d5 in range(1,7):\n",
    "            D = [d1, d2, d3]\n",
    "            i1 = D.count(1)\n",
    "            i2 = D.count(2)\n",
    "            i3 = D.count(3)\n",
    "            i4 = D.count(4)\n",
    "            i5 = D.count(5)\n",
    "            i6 = D.count(6)\n",
    "            DD[i1][i2][i3][i4][i5][i6] += 1\n",
    "            for ii1 in range(0, i1+1):\n",
    "                for ii2 in range(0, i2+1):\n",
    "                    for ii3 in range(0, i3+1):\n",
    "                        for ii4 in range(0, i4+1):\n",
    "                            for ii5 in range(0, i5+1):\n",
    "                                for ii6 in range(0, i6+1):\n",
    "                                    KDD[ii1][ii2][ii3][ii4][ii5][ii6] += 1\n",
    "\n",
    "# print(DD[1][2][1][1][0][0])\n",
    "# print(DD[1][1][1][1][1][0])\n",
    "print(KDD[0][1][0][0][0][0])\n"
   ]
  },
  {
   "cell_type": "code",
   "execution_count": 8,
   "id": "6db42470",
   "metadata": {},
   "outputs": [
    {
     "name": "stdout",
     "output_type": "stream",
     "text": [
      "1.0\n"
     ]
    }
   ],
   "source": [
    "print(KDD[3][0][0][0][0][0])"
   ]
  },
  {
   "cell_type": "code",
   "execution_count": 1,
   "id": "b999ed2f",
   "metadata": {},
   "outputs": [
    {
     "name": "stdout",
     "output_type": "stream",
     "text": [
      "11.0\n"
     ]
    }
   ],
   "source": [
    "#4개 굴림\n",
    "\n",
    "import numpy\n",
    "\n",
    "dice_max=3\n",
    "\n",
    "d1 = 0\n",
    "d2 = 0\n",
    "d3 = 0\n",
    "d4 = 0\n",
    "d5 = 0\n",
    "D = [d1, d2, d3, d4, d5]\n",
    "DD = numpy.zeros(shape=(dice_max,dice_max,dice_max,dice_max,dice_max,dice_max))\n",
    "KDD = numpy.zeros(shape=(dice_max,dice_max,dice_max,dice_max,dice_max,dice_max))\n",
    "\n",
    "for d1 in range(1,7):\n",
    "    for d2 in range(1,7):\n",
    "#         for d3 in range(1,7):\n",
    "#             for d4 in range(1,7):\n",
    "#                 for d5 in range(1,7):\n",
    "        D = [d1, d2]\n",
    "        i1 = D.count(1)\n",
    "        i2 = D.count(2)\n",
    "        i3 = D.count(3)\n",
    "        i4 = D.count(4)\n",
    "        i5 = D.count(5)\n",
    "        i6 = D.count(6)\n",
    "        DD[i1][i2][i3][i4][i5][i6] += 1\n",
    "        for ii1 in range(0, i1+1):\n",
    "            for ii2 in range(0, i2+1):\n",
    "                for ii3 in range(0, i3+1):\n",
    "                    for ii4 in range(0, i4+1):\n",
    "                        for ii5 in range(0, i5+1):\n",
    "                            for ii6 in range(0, i6+1):\n",
    "                                KDD[ii1][ii2][ii3][ii4][ii5][ii6] += 1\n",
    "\n",
    "# print(DD[1][2][1][1][0][0])\n",
    "# print(DD[1][1][1][1][1][0])\n",
    "print(KDD[0][1][0][0][0][0])\n"
   ]
  },
  {
   "cell_type": "code",
   "execution_count": 4,
   "id": "dceb7593",
   "metadata": {},
   "outputs": [
    {
     "name": "stdout",
     "output_type": "stream",
     "text": [
      "1.0\n"
     ]
    }
   ],
   "source": [
    "print(KDD[2][0][0][0][0][0])"
   ]
  }
 ],
 "metadata": {
  "kernelspec": {
   "display_name": "Python 3",
   "language": "python",
   "name": "python3"
  },
  "language_info": {
   "codemirror_mode": {
    "name": "ipython",
    "version": 3
   },
   "file_extension": ".py",
   "mimetype": "text/x-python",
   "name": "python",
   "nbconvert_exporter": "python",
   "pygments_lexer": "ipython3",
   "version": "3.9.2"
  }
 },
 "nbformat": 4,
 "nbformat_minor": 5
}
